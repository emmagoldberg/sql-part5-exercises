{
    "metadata": {
        "kernelspec": {
            "name": "SQL",
            "display_name": "SQL",
            "language": "sql"
        },
        "language_info": {
            "name": "sql",
            "version": ""
        }
    },
    "nbformat_minor": 2,
    "nbformat": 4,
    "cells": [
        {
            "cell_type": "markdown",
            "source": [
                "# Exercises: Creating, Updating, and Destroying Objects\n",
                "\n",
                "For the exercises, you will be working with objects and data you create. Before opening this notebook, make sure that you have set up the new connection to the server and that you have located the database and your schema.\n",
                "\n",
                "## Object Creation\n",
                "\n",
                "Before coding, think of three things you want to make. These could be coding projects, new recipes, or planned projects for a woodworking hobby. Brainstorm the appropriate column names and data types as well.\n",
                "\n",
                "Create a table under your schema called `planned_makes`."
            ],
            "metadata": {
                "azdata_cell_guid": "9d51c166-0c19-4f27-a422-2a6cf596bfb2"
            },
            "attachments": {}
        },
        {
            "cell_type": "code",
            "source": [
                "CREATE TABLE JunkDB_STL_May2023.emma.planned_makes3(\r\n",
                "Item_Name VARCHAR(20) PRIMARY KEY,\r\n",
                "Finish_Date DATETIME,\r\n",
                "Supplies_Needed VARCHAR(50),\r\n",
                "Item_Quantity INT)"
            ],
            "metadata": {
                "azdata_cell_guid": "d9238911-6f81-4f01-980d-b584307effaf",
                "language": "sql"
            },
            "outputs": [
                {
                    "output_type": "display_data",
                    "data": {
                        "text/html": "Commands completed successfully."
                    },
                    "metadata": {}
                },
                {
                    "output_type": "display_data",
                    "data": {
                        "text/html": "Total execution time: 00:00:00.043"
                    },
                    "metadata": {}
                }
            ],
            "execution_count": 8
        },
        {
            "cell_type": "code",
            "source": [
                "SELECT * \r\n",
                "FROM JunkDB_STL_May2023.emma.planned_makes3;"
            ],
            "metadata": {
                "azdata_cell_guid": "5e74a122-5e87-49cd-9cf8-c8860ba0b3f2",
                "language": "sql"
            },
            "outputs": [
                {
                    "output_type": "display_data",
                    "data": {
                        "text/html": "(0 rows affected)"
                    },
                    "metadata": {}
                },
                {
                    "output_type": "display_data",
                    "data": {
                        "text/html": "Total execution time: 00:00:00.034"
                    },
                    "metadata": {}
                },
                {
                    "output_type": "execute_result",
                    "metadata": {},
                    "execution_count": 9,
                    "data": {
                        "application/vnd.dataresource+json": {
                            "schema": {
                                "fields": [
                                    {
                                        "name": "Item_Name"
                                    },
                                    {
                                        "name": "Finish_Date"
                                    },
                                    {
                                        "name": "Supplies_Needed"
                                    },
                                    {
                                        "name": "Item_Quantity"
                                    }
                                ]
                            },
                            "data": []
                        },
                        "text/html": [
                            "<table>",
                            "<tr><th>Item_Name</th><th>Finish_Date</th><th>Supplies_Needed</th><th>Item_Quantity</th></tr>",
                            "</table>"
                        ]
                    }
                }
            ],
            "execution_count": 9
        },
        {
            "cell_type": "markdown",
            "source": [
                "Add three rows to your table that are your planned makes."
            ],
            "metadata": {
                "azdata_cell_guid": "83cdf34d-8c4f-4fa1-a14e-77384b19d734"
            }
        },
        {
            "cell_type": "code",
            "source": [
                "INSERT INTO JunkDB_STL_May2023.emma.planned_makes3\r\n",
                "VALUES ('Murphy Bed', 2/2/2024, 'Wood, screws, saw', 1);"
            ],
            "metadata": {
                "azdata_cell_guid": "e7cff9cb-87ba-4c7b-98f2-eaf445e8719c",
                "language": "sql"
            },
            "outputs": [
                {
                    "output_type": "error",
                    "evalue": "Msg 2627, Level 14, State 1, Line 1\r\nViolation of PRIMARY KEY constraint 'PK__planned___89CFF9E3F6B53DF4'. Cannot insert duplicate key in object 'emma.planned_makes3'. The duplicate key value is (Murphy Bed).",
                    "ename": "",
                    "traceback": []
                },
                {
                    "output_type": "display_data",
                    "data": {
                        "text/html": "The statement has been terminated."
                    },
                    "metadata": {}
                },
                {
                    "output_type": "display_data",
                    "data": {
                        "text/html": "Total execution time: 00:00:00.297"
                    },
                    "metadata": {}
                }
            ],
            "execution_count": 11
        },
        {
            "cell_type": "code",
            "source": [
                "INSERT INTO JunkDB_STL_May2023.emma.planned_makes3\r\n",
                "VALUES ('Pumpkin Pie', 10/30/2023, 'Pumpkin, Crust', 2);"
            ],
            "metadata": {
                "language": "sql",
                "azdata_cell_guid": "9d262648-30a8-4240-a43f-88e8600d9826"
            },
            "outputs": [
                {
                    "output_type": "display_data",
                    "data": {
                        "text/html": "(1 row affected)"
                    },
                    "metadata": {}
                },
                {
                    "output_type": "display_data",
                    "data": {
                        "text/html": "Total execution time: 00:00:00.034"
                    },
                    "metadata": {}
                }
            ],
            "execution_count": 12
        },
        {
            "cell_type": "code",
            "source": [
                "INSERT INTO JunkDB_STL_May2023.emma.planned_makes3\r\n",
                "VALUES ('Cushion Cover', 1/1/2024, 'Fabric, thread', 1);"
            ],
            "metadata": {
                "azdata_cell_guid": "af97498b-8690-49f8-a05f-d52dc7dedef5",
                "language": "sql"
            },
            "outputs": [
                {
                    "output_type": "display_data",
                    "data": {
                        "text/html": "(1 row affected)"
                    },
                    "metadata": {}
                },
                {
                    "output_type": "display_data",
                    "data": {
                        "text/html": "Total execution time: 00:00:00.038"
                    },
                    "metadata": {}
                }
            ],
            "execution_count": 13
        },
        {
            "cell_type": "code",
            "source": [
                "SELECT *\r\n",
                "FROM JunkDB_STL_May2023.emma.planned_makes3;"
            ],
            "metadata": {
                "azdata_cell_guid": "ee3d2e47-5330-4689-86bd-8fb9476382f3",
                "language": "sql"
            },
            "outputs": [
                {
                    "output_type": "display_data",
                    "data": {
                        "text/html": "(3 rows affected)"
                    },
                    "metadata": {}
                },
                {
                    "output_type": "display_data",
                    "data": {
                        "text/html": "Total execution time: 00:00:00.050"
                    },
                    "metadata": {}
                },
                {
                    "output_type": "execute_result",
                    "metadata": {},
                    "execution_count": 14,
                    "data": {
                        "application/vnd.dataresource+json": {
                            "schema": {
                                "fields": [
                                    {
                                        "name": "Item_Name"
                                    },
                                    {
                                        "name": "Finish_Date"
                                    },
                                    {
                                        "name": "Supplies_Needed"
                                    },
                                    {
                                        "name": "Item_Quantity"
                                    }
                                ]
                            },
                            "data": [
                                {
                                    "Item_Name": "Cushion Cover",
                                    "Finish_Date": "1900-01-01 00:00:00.000",
                                    "Supplies_Needed": "Fabric, thread",
                                    "Item_Quantity": "1"
                                },
                                {
                                    "Item_Name": "Murphy Bed",
                                    "Finish_Date": "1900-01-01 00:00:00.000",
                                    "Supplies_Needed": "Wood, screws, saw",
                                    "Item_Quantity": "1"
                                },
                                {
                                    "Item_Name": "Pumpkin Pie",
                                    "Finish_Date": "1900-01-01 00:00:00.000",
                                    "Supplies_Needed": "Pumpkin, Crust",
                                    "Item_Quantity": "2"
                                }
                            ]
                        },
                        "text/html": [
                            "<table>",
                            "<tr><th>Item_Name</th><th>Finish_Date</th><th>Supplies_Needed</th><th>Item_Quantity</th></tr>",
                            "<tr><td>Cushion Cover</td><td>1900-01-01 00:00:00.000</td><td>Fabric, thread</td><td>1</td></tr>",
                            "<tr><td>Murphy Bed</td><td>1900-01-01 00:00:00.000</td><td>Wood, screws, saw</td><td>1</td></tr>",
                            "<tr><td>Pumpkin Pie</td><td>1900-01-01 00:00:00.000</td><td>Pumpkin, Crust</td><td>2</td></tr>",
                            "</table>"
                        ]
                    }
                }
            ],
            "execution_count": 14
        },
        {
            "cell_type": "code",
            "source": [
                "DROP TABLE JunkDB_STL_May2023.emma.planned_makes;"
            ],
            "metadata": {
                "language": "sql",
                "azdata_cell_guid": "ac6357d4-ddd0-4fc8-bc29-f995fd07f7ac"
            },
            "outputs": [
                {
                    "output_type": "display_data",
                    "data": {
                        "text/html": "Commands completed successfully."
                    },
                    "metadata": {}
                },
                {
                    "output_type": "display_data",
                    "data": {
                        "text/html": "Total execution time: 00:00:00.032"
                    },
                    "metadata": {}
                }
            ],
            "execution_count": 15
        },
        {
            "cell_type": "code",
            "source": [
                "DROP TABLE JunkDB_STL_May2023.emma.planned_makes2;"
            ],
            "metadata": {
                "azdata_cell_guid": "35166933-fc89-408c-8e12-8e5fe124f0b7",
                "language": "sql"
            },
            "outputs": [
                {
                    "output_type": "display_data",
                    "data": {
                        "text/html": "Commands completed successfully."
                    },
                    "metadata": {}
                },
                {
                    "output_type": "display_data",
                    "data": {
                        "text/html": "Total execution time: 00:00:00.033"
                    },
                    "metadata": {}
                }
            ],
            "execution_count": 16
        },
        {
            "cell_type": "markdown",
            "source": [
                "## Update a Row\n",
                "\n",
                "Change different values in one of your three rows."
            ],
            "metadata": {
                "azdata_cell_guid": "4a39b8d4-ae97-4e09-8336-c5fc6a00d76c"
            },
            "attachments": {}
        },
        {
            "cell_type": "code",
            "source": [
                "UPDATE JunkDB_STL_May2023.emma.planned_makes3\r\n",
                "SET Finish_Date = 2024-01-01\r\n",
                "WHERE Item_Name = 'Cushion Cover';"
            ],
            "metadata": {
                "azdata_cell_guid": "7409c695-9581-4ad8-b03a-574d2c4c87cb",
                "language": "sql"
            },
            "outputs": [
                {
                    "output_type": "display_data",
                    "data": {
                        "text/html": "(1 row affected)"
                    },
                    "metadata": {}
                },
                {
                    "output_type": "display_data",
                    "data": {
                        "text/html": "Total execution time: 00:00:00.037"
                    },
                    "metadata": {}
                }
            ],
            "execution_count": 17
        },
        {
            "cell_type": "code",
            "source": [
                "UPDATE JunkDB_STL_May2023.emma.planned_makes3\r\n",
                "SET Finish_Date = 2024-02-01\r\n",
                "WHERE Item_Name = 'Murphy Bed';"
            ],
            "metadata": {
                "azdata_cell_guid": "a03b34c6-39eb-4382-a130-70cf73857fa0",
                "language": "sql"
            },
            "outputs": [
                {
                    "output_type": "display_data",
                    "data": {
                        "text/html": "(1 row affected)"
                    },
                    "metadata": {}
                },
                {
                    "output_type": "display_data",
                    "data": {
                        "text/html": "Total execution time: 00:00:00.037"
                    },
                    "metadata": {}
                }
            ],
            "execution_count": 18
        },
        {
            "cell_type": "code",
            "source": [
                "UPDATE JunkDB_STL_May2023.emma.planned_makes3\r\n",
                "SET Finish_Date = 2023-10-30\r\n",
                "WHERE Item_Name = 'Pumpkin Pie';"
            ],
            "metadata": {
                "azdata_cell_guid": "8ef9230c-9303-4271-93fe-f51118df5751",
                "language": "sql"
            },
            "outputs": [
                {
                    "output_type": "display_data",
                    "data": {
                        "text/html": "(1 row affected)"
                    },
                    "metadata": {}
                },
                {
                    "output_type": "display_data",
                    "data": {
                        "text/html": "Total execution time: 00:00:00.034"
                    },
                    "metadata": {}
                }
            ],
            "execution_count": 19
        },
        {
            "cell_type": "code",
            "source": [
                "SELECT *\r\n",
                "FROM JunkDB_STL_May2023.emma.planned_makes3;"
            ],
            "metadata": {
                "azdata_cell_guid": "87a7b238-7ef3-4b5a-8450-b77bdf0d3b4a",
                "language": "sql"
            },
            "outputs": [
                {
                    "output_type": "display_data",
                    "data": {
                        "text/html": "(3 rows affected)"
                    },
                    "metadata": {}
                },
                {
                    "output_type": "display_data",
                    "data": {
                        "text/html": "Total execution time: 00:00:00.038"
                    },
                    "metadata": {}
                },
                {
                    "output_type": "execute_result",
                    "metadata": {},
                    "execution_count": 20,
                    "data": {
                        "application/vnd.dataresource+json": {
                            "schema": {
                                "fields": [
                                    {
                                        "name": "Item_Name"
                                    },
                                    {
                                        "name": "Finish_Date"
                                    },
                                    {
                                        "name": "Supplies_Needed"
                                    },
                                    {
                                        "name": "Item_Quantity"
                                    }
                                ]
                            },
                            "data": [
                                {
                                    "Item_Name": "Cushion Cover",
                                    "Finish_Date": "1905-07-16 00:00:00.000",
                                    "Supplies_Needed": "Fabric, thread",
                                    "Item_Quantity": "1"
                                },
                                {
                                    "Item_Name": "Murphy Bed",
                                    "Finish_Date": "1905-07-15 00:00:00.000",
                                    "Supplies_Needed": "Wood, screws, saw",
                                    "Item_Quantity": "1"
                                },
                                {
                                    "Item_Name": "Pumpkin Pie",
                                    "Finish_Date": "1905-06-07 00:00:00.000",
                                    "Supplies_Needed": "Pumpkin, Crust",
                                    "Item_Quantity": "2"
                                }
                            ]
                        },
                        "text/html": [
                            "<table>",
                            "<tr><th>Item_Name</th><th>Finish_Date</th><th>Supplies_Needed</th><th>Item_Quantity</th></tr>",
                            "<tr><td>Cushion Cover</td><td>1905-07-16 00:00:00.000</td><td>Fabric, thread</td><td>1</td></tr>",
                            "<tr><td>Murphy Bed</td><td>1905-07-15 00:00:00.000</td><td>Wood, screws, saw</td><td>1</td></tr>",
                            "<tr><td>Pumpkin Pie</td><td>1905-06-07 00:00:00.000</td><td>Pumpkin, Crust</td><td>2</td></tr>",
                            "</table>"
                        ]
                    }
                }
            ],
            "execution_count": 20
        },
        {
            "cell_type": "markdown",
            "source": [
                "## Delete a Row\n",
                "\n",
                "Delete one of the rows from your table."
            ],
            "metadata": {
                "azdata_cell_guid": "95e91a6e-9038-42d9-9401-5738842aba17"
            }
        },
        {
            "cell_type": "code",
            "source": [
                "DELETE FROM JunkDB_STL_May2023.emma.planned_makes3\r\n",
                "WHERE Item_Name = 'Pumpkin Pie';"
            ],
            "metadata": {
                "azdata_cell_guid": "749c748f-19b5-4c69-9004-b6b20216616a",
                "language": "sql"
            },
            "outputs": [
                {
                    "output_type": "display_data",
                    "data": {
                        "text/html": "(1 row affected)"
                    },
                    "metadata": {}
                },
                {
                    "output_type": "display_data",
                    "data": {
                        "text/html": "Total execution time: 00:00:00.036"
                    },
                    "metadata": {}
                }
            ],
            "execution_count": 21
        },
        {
            "cell_type": "markdown",
            "source": [
                "## Drop the Table\n",
                "\n",
                "While this has been fun, it is time to drop the table!"
            ],
            "metadata": {
                "azdata_cell_guid": "2239cb09-137b-4579-905b-1aa020793181"
            },
            "attachments": {}
        },
        {
            "cell_type": "code",
            "source": [
                "DROP TABLE JunkDB_STL_May2023.emma.planned_makes3;"
            ],
            "metadata": {
                "azdata_cell_guid": "b3c7f6ea-ee26-46b3-9c2a-2f7a82c39699",
                "language": "sql"
            },
            "outputs": [
                {
                    "output_type": "display_data",
                    "data": {
                        "text/html": "Commands completed successfully."
                    },
                    "metadata": {}
                },
                {
                    "output_type": "display_data",
                    "data": {
                        "text/html": "Total execution time: 00:00:00.041"
                    },
                    "metadata": {}
                }
            ],
            "execution_count": 22
        }
    ]
}